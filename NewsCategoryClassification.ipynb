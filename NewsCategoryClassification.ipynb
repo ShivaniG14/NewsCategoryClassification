{
 "cells": [
  {
   "cell_type": "markdown",
   "metadata": {},
   "source": [
    "# NEWS CATEGORY CLASSIFICATION"
   ]
  },
  {
   "cell_type": "code",
   "execution_count": 1,
   "metadata": {},
   "outputs": [],
   "source": [
    "from sklearn import model_selection, preprocessing, linear_model, naive_bayes, metrics, svm\n",
    "from sklearn.feature_extraction.text import TfidfVectorizer, CountVectorizer\n",
    "from sklearn import decomposition, ensemble\n",
    "from sklearn.neural_network import MLPClassifier\n",
    "from sklearn.model_selection import train_test_split\n",
    "from sklearn.preprocessing import StandardScaler\n",
    "import pandas as pd\n",
    "from sklearn.metrics import accuracy_score\n",
    "from sklearn.metrics import plot_confusion_matrix\n",
    "import matplotlib.pyplot as plt\n",
    "from sklearn.ensemble import AdaBoostClassifier\n",
    "from sklearn.tree import DecisionTreeClassifier\n",
    "from sklearn.ensemble import RandomForestClassifier\n",
    "from sklearn.metrics import classification_report\n",
    "import string\n",
    "from keras.preprocessing import text, sequence\n",
    "from keras import layers, models, optimizers\n",
    "from sklearn import model_selection, svm\n",
    "from keras.utils import np_utils\n",
    "from sklearn.metrics import accuracy_score, classification_report\n",
    "import warnings\n",
    "warnings.filterwarnings('ignore')\n",
    "import numpy as np\n",
    "from keras.layers import LSTM, Embedding, Dense, TimeDistributed, Dropout, Bidirectional"
   ]
  },
  {
   "cell_type": "code",
   "execution_count": 2,
   "metadata": {},
   "outputs": [
    {
     "name": "stdout",
     "output_type": "stream",
     "text": [
      "19199\n",
      "3\n"
     ]
    }
   ],
   "source": [
    "testdata=pd.read_csv('te/te-test.csv')\n",
    "traindata=pd.read_csv('te/te-train.csv')\n",
    "validdata=pd.read_csv('te/te-valid.csv')\n",
    "traindata.columns=['col1','col2']\n",
    "testdata.columns=['col1','col2']\n",
    "validdata.columns=['col1','col2']\n",
    "news=list(traindata['col2'])\n",
    "cats=list(set(traindata['col1']))\n",
    "validnews=list(validdata['col2'])\n",
    "validcats=list(set(validdata['col1']))\n",
    "print(len(news))\n",
    "print(len(cats))\n",
    "traindata['news']=traindata['col2']\n",
    "traindata['category']=traindata['col1']\n",
    "validdata['news']=validdata['col2']\n",
    "validdata['category']=validdata['col1']"
   ]
  },
  {
   "cell_type": "code",
   "execution_count": 3,
   "metadata": {},
   "outputs": [],
   "source": [
    "train_x,train_y= traindata['news'], traindata['category']\n",
    "valid_x,valid_y=validdata['news'], validdata['category']\n",
    "encoder = preprocessing.LabelEncoder()\n",
    "train_y = encoder.fit_transform(train_y)\n",
    "valid_y = encoder.fit_transform(valid_y)"
   ]
  },
  {
   "cell_type": "code",
   "execution_count": 34,
   "metadata": {},
   "outputs": [],
   "source": [
    "# word level tf-idf\n",
    "tfidf_vect = TfidfVectorizer(analyzer='word', token_pattern=r'\\w{1,}', max_features=5000)\n",
    "tfidf_vect.fit(traindata['news'])\n",
    "xtrain_tfidf =  tfidf_vect.transform(train_x)\n",
    "xvalid_tfidf =  tfidf_vect.transform(valid_x)\n",
    "\n",
    "# ngram level tf-idf \n",
    "tfidf_vect_ngram = TfidfVectorizer(analyzer='word', token_pattern=r'\\w{1,}', ngram_range=(2,3), max_features=5000)\n",
    "tfidf_vect_ngram.fit(traindata['news'])\n",
    "xtrain_tfidf_ngram =  tfidf_vect_ngram.transform(train_x)\n",
    "xvalid_tfidf_ngram =  tfidf_vect_ngram.transform(valid_x)\n",
    "\n",
    "# characters level tf-idf\n",
    "tfidf_vect_ngram_chars = TfidfVectorizer(analyzer='char', token_pattern=r'\\w{1,}', ngram_range=(2,3), max_features=5000)\n",
    "tfidf_vect_ngram_chars.fit(traindata['news'])\n",
    "xtrain_tfidf_ngram_chars =  tfidf_vect_ngram_chars.transform(train_x) \n",
    "xvalid_tfidf_ngram_chars =  tfidf_vect_ngram_chars.transform(valid_x)"
   ]
  },
  {
   "cell_type": "markdown",
   "metadata": {},
   "source": [
    "# Naive Bayes Classifier"
   ]
  },
  {
   "cell_type": "markdown",
   "metadata": {},
   "source": [
    "## Word Level "
   ]
  },
  {
   "cell_type": "code",
   "execution_count": 35,
   "metadata": {},
   "outputs": [
    {
     "name": "stdout",
     "output_type": "stream",
     "text": [
      "0.9641517298874531\n",
      "              precision    recall  f1-score   support\n",
      "\n",
      "           0       0.97      0.98      0.98       800\n",
      "           1       0.94      0.99      0.96       818\n",
      "           2       0.98      0.93      0.95       781\n",
      "\n",
      "    accuracy                           0.96      2399\n",
      "   macro avg       0.97      0.96      0.96      2399\n",
      "weighted avg       0.96      0.96      0.96      2399\n",
      "\n"
     ]
    },
    {
     "data": {
      "image/png": "[encoded data removed]",
      "text/plain": [
       "<Figure size 432x288 with 2 Axes>"
      ]
     },
     "metadata": {
      "needs_background": "light"
     },
     "output_type": "display_data"
    },
    {
     "name": "stdout",
     "output_type": "stream",
     "text": [
      "predicting data \n",
      "sports\n",
      "[2]\n"
     ]
    },
    {
     "data": {
      "text/plain": [
       "array([2])"
      ]
     },
     "execution_count": 35,
     "metadata": {},
     "output_type": "execute_result"
    }
   ],
   "source": [
    "# Naive Bayes on Word Level TF IDF Vectors\n",
    "clf =naive_bayes.MultinomialNB().fit(xtrain_tfidf, train_y)\n",
    "y_pred=clf.predict(xvalid_tfidf)\n",
    "print(clf.score(xvalid_tfidf, valid_y))\n",
    "\n",
    "print(metrics.classification_report(valid_y, y_pred))\n",
    "\n",
    "fig=plot_confusion_matrix(clf, xvalid_tfidf, valid_y,display_labels=[\"Sports\",\"Entertainment\",\"Business\"])\n",
    "fig.figure_.suptitle(\"Confusion Matrix\")\n",
    "plt.show()\n",
    "\n",
    "print(\"predicting data \")\n",
    "print(validdata['col1'][40])\n",
    "print(encoder.transform([validdata['col1'][40]]))\n",
    "xvalid_tfidf= tfidf_vect.transform([validdata['col2'][40]])\n",
    "clf.predict(xvalid_tfidf)"
   ]
  },
  {
   "cell_type": "markdown",
   "metadata": {},
   "source": [
    "## Ngram Level "
   ]
  },
  {
   "cell_type": "code",
   "execution_count": 36,
   "metadata": {},
   "outputs": [
    {
     "name": "stdout",
     "output_type": "stream",
     "text": [
      "0.9799916631929971\n",
      "              precision    recall  f1-score   support\n",
      "\n",
      "           0       0.98      0.99      0.99       800\n",
      "           1       0.97      0.99      0.98       818\n",
      "           2       0.99      0.96      0.98       781\n",
      "\n",
      "    accuracy                           0.98      2399\n",
      "   macro avg       0.98      0.98      0.98      2399\n",
      "weighted avg       0.98      0.98      0.98      2399\n",
      "\n"
     ]
    },
    {
     "data": {
      "image/png": "[encoded data removed]",
      "text/plain": [
       "<Figure size 432x288 with 2 Axes>"
      ]
     },
     "metadata": {
      "needs_background": "light"
     },
     "output_type": "display_data"
    },
    {
     "name": "stdout",
     "output_type": "stream",
     "text": [
      "predicting data \n",
      "sports\n",
      "[2]\n"
     ]
    },
    {
     "data": {
      "text/plain": [
       "array([2])"
      ]
     },
     "execution_count": 36,
     "metadata": {},
     "output_type": "execute_result"
    }
   ],
   "source": [
    "# Naive Bayes on Ngram Level TF IDF Vectors\n",
    "clf =naive_bayes.MultinomialNB().fit(xtrain_tfidf_ngram, train_y)\n",
    "y_pred=clf.predict(xvalid_tfidf_ngram)\n",
    "print(clf.score(xvalid_tfidf_ngram, valid_y))\n",
    "\n",
    "print(metrics.classification_report(valid_y, y_pred))\n",
    "\n",
    "\n",
    "fig=plot_confusion_matrix(clf, xvalid_tfidf_ngram, valid_y,display_labels=[\"Sports\",\"Entertainment\",\"Business\"])\n",
    "fig.figure_.suptitle(\"Confusion Matrix\")\n",
    "plt.show()\n",
    "\n",
    "\n",
    "print(\"predicting data \")\n",
    "print(validdata['col1'][40])\n",
    "print(encoder.transform([validdata['col1'][40]]))\n",
    "xvalid_tfidf_ngram =  tfidf_vect_ngram.transform([validdata['col2'][40]])\n",
    "clf.predict(xvalid_tfidf_ngram)"
   ]
  },
  {
   "cell_type": "markdown",
   "metadata": {},
   "source": [
    "## Characters Level "
   ]
  },
  {
   "cell_type": "code",
   "execution_count": 37,
   "metadata": {},
   "outputs": [
    {
     "name": "stdout",
     "output_type": "stream",
     "text": [
      "0.9695706544393498\n",
      "              precision    recall  f1-score   support\n",
      "\n",
      "           0       0.98      0.97      0.98       800\n",
      "           1       0.95      0.99      0.97       818\n",
      "           2       0.98      0.94      0.96       781\n",
      "\n",
      "    accuracy                           0.97      2399\n",
      "   macro avg       0.97      0.97      0.97      2399\n",
      "weighted avg       0.97      0.97      0.97      2399\n",
      "\n"
     ]
    },
    {
     "data": {
      "image/png": "[encoded data removed]",
      "text/plain": [
       "<Figure size 432x288 with 2 Axes>"
      ]
     },
     "metadata": {
      "needs_background": "light"
     },
     "output_type": "display_data"
    },
    {
     "name": "stdout",
     "output_type": "stream",
     "text": [
      "predicting data \n",
      "sports\n",
      "[2]\n"
     ]
    },
    {
     "data": {
      "text/plain": [
       "array([2])"
      ]
     },
     "execution_count": 37,
     "metadata": {},
     "output_type": "execute_result"
    }
   ],
   "source": [
    "# Naive Bayes on Character Level TF IDF Vectors\n",
    "clf =naive_bayes.MultinomialNB().fit(xtrain_tfidf_ngram_chars, train_y)\n",
    "y_pred=clf.predict(xvalid_tfidf_ngram_chars)\n",
    "print(clf.score(xvalid_tfidf_ngram_chars, valid_y))\n",
    "\n",
    "print(metrics.classification_report(valid_y, y_pred))\n",
    "\n",
    "fig=plot_confusion_matrix(clf, xvalid_tfidf_ngram_chars, valid_y,display_labels=[\"Sports\",\"Entertainment\",\"Business\"])\n",
    "fig.figure_.suptitle(\"Confusion Matrix\")\n",
    "plt.show()\n",
    "\n",
    "print(\"predicting data \")\n",
    "print(validdata['col1'][40])\n",
    "print(encoder.transform([validdata['col1'][40]]))\n",
    "xvalid_tfidf_ngram_chars =  tfidf_vect_ngram_chars.transform([validdata['col2'][40]])\n",
    "clf.predict(xvalid_tfidf_ngram_chars)"
   ]
  },
  {
   "cell_type": "markdown",
   "metadata": {},
   "source": [
    "# SVM Classifier"
   ]
  },
  {
   "cell_type": "code",
   "execution_count": 38,
   "metadata": {},
   "outputs": [],
   "source": [
    "# word level tf-idf\n",
    "tfidf_vect = TfidfVectorizer(analyzer='word', token_pattern=r'\\w{1,}', max_features=5000)\n",
    "tfidf_vect.fit(traindata['news'])\n",
    "xtrain_tfidf =  tfidf_vect.transform(train_x)\n",
    "xvalid_tfidf =  tfidf_vect.transform(valid_x)\n",
    "\n",
    "# ngram level tf-idf \n",
    "tfidf_vect_ngram = TfidfVectorizer(analyzer='word', token_pattern=r'\\w{1,}', ngram_range=(2,3), max_features=5000)\n",
    "tfidf_vect_ngram.fit(traindata['news'])\n",
    "xtrain_tfidf_ngram =  tfidf_vect_ngram.transform(train_x)\n",
    "xvalid_tfidf_ngram =  tfidf_vect_ngram.transform(valid_x)\n",
    "\n",
    "# characters level tf-idf\n",
    "tfidf_vect_ngram_chars = TfidfVectorizer(analyzer='char', token_pattern=r'\\w{1,}', ngram_range=(2,3), max_features=5000)\n",
    "tfidf_vect_ngram_chars.fit(traindata['news'])\n",
    "xtrain_tfidf_ngram_chars =  tfidf_vect_ngram_chars.transform(train_x) \n",
    "xvalid_tfidf_ngram_chars =  tfidf_vect_ngram_chars.transform(valid_x)"
   ]
  },
  {
   "cell_type": "markdown",
   "metadata": {},
   "source": [
    "## Word level "
   ]
  },
  {
   "cell_type": "code",
   "execution_count": 39,
   "metadata": {},
   "outputs": [
    {
     "name": "stdout",
     "output_type": "stream",
     "text": [
      "0.9837432263443101\n",
      "              precision    recall  f1-score   support\n",
      "\n",
      "           0       0.98      1.00      0.99       800\n",
      "           1       0.97      0.99      0.98       818\n",
      "           2       0.99      0.96      0.98       781\n",
      "\n",
      "    accuracy                           0.98      2399\n",
      "   macro avg       0.98      0.98      0.98      2399\n",
      "weighted avg       0.98      0.98      0.98      2399\n",
      "\n"
     ]
    },
    {
     "data": {
      "image/png": "[encoded data removed]",
      "text/plain": [
       "<Figure size 432x288 with 2 Axes>"
      ]
     },
     "metadata": {
      "needs_background": "light"
     },
     "output_type": "display_data"
    },
    {
     "name": "stdout",
     "output_type": "stream",
     "text": [
      "predicting data \n",
      "sports\n",
      "[2]\n"
     ]
    },
    {
     "data": {
      "text/plain": [
       "array([2])"
      ]
     },
     "execution_count": 39,
     "metadata": {},
     "output_type": "execute_result"
    }
   ],
   "source": [
    "clf = svm.SVC().fit(xtrain_tfidf, train_y)\n",
    "y_pred=clf.predict(xvalid_tfidf)\n",
    "print(clf.score(xvalid_tfidf, valid_y))\n",
    "\n",
    "print(metrics.classification_report(valid_y, y_pred))\n",
    "\n",
    "fig=plot_confusion_matrix(clf, xvalid_tfidf, valid_y,display_labels=[\"Sports\",\"Entertainment\",\"Business\"])\n",
    "fig.figure_.suptitle(\"Confusion Matrix\")\n",
    "plt.show()\n",
    "\n",
    "print(\"predicting data \")\n",
    "print(validdata['col1'][40])\n",
    "print(encoder.transform([validdata['col1'][40]]))\n",
    "xvalid_tfidf= tfidf_vect.transform([validdata['col2'][40]])\n",
    "clf.predict(xvalid_tfidf)"
   ]
  },
  {
   "cell_type": "markdown",
   "metadata": {},
   "source": [
    "## Ngram Level"
   ]
  },
  {
   "cell_type": "code",
   "execution_count": 40,
   "metadata": {},
   "outputs": [
    {
     "name": "stdout",
     "output_type": "stream",
     "text": [
      "0.9945810754481034\n",
      "              precision    recall  f1-score   support\n",
      "\n",
      "           0       0.99      0.99      0.99       800\n",
      "           1       0.99      1.00      0.99       818\n",
      "           2       1.00      0.99      0.99       781\n",
      "\n",
      "    accuracy                           0.99      2399\n",
      "   macro avg       0.99      0.99      0.99      2399\n",
      "weighted avg       0.99      0.99      0.99      2399\n",
      "\n"
     ]
    },
    {
     "data": {
      "image/png": "[encoded data removed]",
      "text/plain": [
       "<Figure size 432x288 with 2 Axes>"
      ]
     },
     "metadata": {
      "needs_background": "light"
     },
     "output_type": "display_data"
    },
    {
     "name": "stdout",
     "output_type": "stream",
     "text": [
      "predicting data \n",
      "sports\n",
      "[2]\n"
     ]
    },
    {
     "data": {
      "text/plain": [
       "array([2])"
      ]
     },
     "execution_count": 40,
     "metadata": {},
     "output_type": "execute_result"
    }
   ],
   "source": [
    "clf = svm.SVC().fit(xtrain_tfidf_ngram, train_y)\n",
    "y_pred=clf.predict(xvalid_tfidf_ngram)\n",
    "print(clf.score(xvalid_tfidf_ngram, valid_y))\n",
    "\n",
    "\n",
    "print(metrics.classification_report(valid_y, y_pred))\n",
    "\n",
    "fig=plot_confusion_matrix(clf, xvalid_tfidf_ngram, valid_y,display_labels=[\"Sports\",\"Entertainment\",\"Business\"])\n",
    "fig.figure_.suptitle(\"Confusion Matrix\")\n",
    "plt.show()\n",
    "\n",
    "print(\"predicting data \")\n",
    "print(validdata['col1'][20])\n",
    "print(encoder.transform([validdata['col1'][20]]))\n",
    "xvalid_tfidf_ngram =  tfidf_vect_ngram.transform([validdata['col2'][20]])\n",
    "clf.predict(xvalid_tfidf_ngram)"
   ]
  },
  {
   "cell_type": "markdown",
   "metadata": {},
   "source": [
    "## Characters level"
   ]
  },
  {
   "cell_type": "code",
   "execution_count": 41,
   "metadata": {},
   "outputs": [
    {
     "name": "stdout",
     "output_type": "stream",
     "text": [
      "0.995831596498541\n",
      "              precision    recall  f1-score   support\n",
      "\n",
      "           0       1.00      1.00      1.00       800\n",
      "           1       1.00      1.00      1.00       818\n",
      "           2       1.00      0.99      1.00       781\n",
      "\n",
      "    accuracy                           1.00      2399\n",
      "   macro avg       1.00      1.00      1.00      2399\n",
      "weighted avg       1.00      1.00      1.00      2399\n",
      "\n"
     ]
    },
    {
     "data": {
      "image/png": "[encoded data removed]",
      "text/plain": [
       "<Figure size 432x288 with 2 Axes>"
      ]
     },
     "metadata": {
      "needs_background": "light"
     },
     "output_type": "display_data"
    },
    {
     "name": "stdout",
     "output_type": "stream",
     "text": [
      "predicting data \n",
      "sports\n",
      "[2]\n"
     ]
    },
    {
     "data": {
      "text/plain": [
       "array([2])"
      ]
     },
     "execution_count": 41,
     "metadata": {},
     "output_type": "execute_result"
    }
   ],
   "source": [
    "clf = svm.SVC().fit(xtrain_tfidf_ngram_chars, train_y)\n",
    "y_pred=clf.predict(xvalid_tfidf_ngram_chars)\n",
    "print(clf.score(xvalid_tfidf_ngram_chars, valid_y))\n",
    "\n",
    "print(metrics.classification_report(valid_y, y_pred))\n",
    "\n",
    "fig=plot_confusion_matrix(clf, xvalid_tfidf_ngram_chars, valid_y,display_labels=[\"Sports\",\"Entertainment\",\"Business\"])\n",
    "fig.figure_.suptitle(\"Confusion Matrix\")\n",
    "plt.show()\n",
    "\n",
    "print(\"predicting data \")\n",
    "print(validdata['col1'][40])\n",
    "print(encoder.transform([validdata['col1'][40]]))\n",
    "xvalid_tfidf_ngram_chars =  tfidf_vect_ngram_chars.transform([validdata['col2'][40]])\n",
    "clf.predict(xvalid_tfidf_ngram_chars)"
   ]
  },
  {
   "cell_type": "markdown",
   "metadata": {},
   "source": [
    "# MLP Classifier"
   ]
  },
  {
   "cell_type": "markdown",
   "metadata": {},
   "source": [
    "## Word Level "
   ]
  },
  {
   "cell_type": "code",
   "execution_count": 42,
   "metadata": {},
   "outputs": [
    {
     "name": "stdout",
     "output_type": "stream",
     "text": [
      "0.9816590245935807\n",
      "              precision    recall  f1-score   support\n",
      "\n",
      "           0       0.99      0.99      0.99       800\n",
      "           1       0.98      0.98      0.98       818\n",
      "           2       0.98      0.98      0.98       781\n",
      "\n",
      "    accuracy                           0.98      2399\n",
      "   macro avg       0.98      0.98      0.98      2399\n",
      "weighted avg       0.98      0.98      0.98      2399\n",
      "\n"
     ]
    },
    {
     "data": {
      "image/png": "[encoded data removed]",
      "text/plain": [
       "<Figure size 432x288 with 2 Axes>"
      ]
     },
     "metadata": {
      "needs_background": "light"
     },
     "output_type": "display_data"
    },
    {
     "name": "stdout",
     "output_type": "stream",
     "text": [
      "sports\n",
      "[2]\n"
     ]
    },
    {
     "data": {
      "text/plain": [
       "array([2])"
      ]
     },
     "execution_count": 42,
     "metadata": {},
     "output_type": "execute_result"
    }
   ],
   "source": [
    "tfidf_vect = TfidfVectorizer(analyzer='word', token_pattern=r'\\w{1,}', max_features=5000)\n",
    "tfidf_vect.fit(traindata['news'])\n",
    "xtrain_tfidf =  tfidf_vect.transform(train_x)\n",
    "xvalid_tfidf =  tfidf_vect.transform(valid_x)\n",
    "\n",
    "clf = MLPClassifier(hidden_layer_sizes=(256,128,64,32),activation=\"relu\",random_state=1).fit(xtrain_tfidf, train_y)\n",
    "y_pred=clf.predict(xvalid_tfidf)\n",
    "print(clf.score(xvalid_tfidf, valid_y))\n",
    "\n",
    "print(metrics.classification_report(valid_y, y_pred))\n",
    "\n",
    "fig=plot_confusion_matrix(clf, xvalid_tfidf, valid_y,display_labels=[\"Sports\",\"Entertainment\",\"Business\"])\n",
    "fig.figure_.suptitle(\"Confusion Matrix\")\n",
    "plt.show()\n",
    "\n",
    "print(validdata['col1'][40])\n",
    "print(encoder.transform([validdata['col1'][40]]))\n",
    "xvalid_tfidf= tfidf_vect.transform([validdata['col2'][40]])\n",
    "clf.predict(xvalid_tfidf)"
   ]
  },
  {
   "cell_type": "markdown",
   "metadata": {},
   "source": [
    "## Ngram Level "
   ]
  },
  {
   "cell_type": "code",
   "execution_count": 43,
   "metadata": {},
   "outputs": [
    {
     "name": "stdout",
     "output_type": "stream",
     "text": [
      "0.9941642350979575\n",
      "              precision    recall  f1-score   support\n",
      "\n",
      "           0       0.99      0.99      0.99       800\n",
      "           1       0.99      1.00      0.99       818\n",
      "           2       0.99      0.99      0.99       781\n",
      "\n",
      "    accuracy                           0.99      2399\n",
      "   macro avg       0.99      0.99      0.99      2399\n",
      "weighted avg       0.99      0.99      0.99      2399\n",
      "\n"
     ]
    },
    {
     "data": {
      "image/png": "[encoded data removed]",
      "text/plain": [
       "<Figure size 432x288 with 2 Axes>"
      ]
     },
     "metadata": {
      "needs_background": "light"
     },
     "output_type": "display_data"
    },
    {
     "name": "stdout",
     "output_type": "stream",
     "text": [
      "predicting data \n",
      "entertainment\n",
      "[1]\n"
     ]
    },
    {
     "data": {
      "text/plain": [
       "array([1])"
      ]
     },
     "execution_count": 43,
     "metadata": {},
     "output_type": "execute_result"
    }
   ],
   "source": [
    "tfidf_vect_ngram = TfidfVectorizer(analyzer='word', token_pattern=r'\\w{1,}', ngram_range=(2,3), max_features=5000)\n",
    "tfidf_vect_ngram.fit(traindata['news'])\n",
    "xtrain_tfidf_ngram =  tfidf_vect_ngram.transform(train_x)\n",
    "xvalid_tfidf_ngram =  tfidf_vect_ngram.transform(valid_x)\n",
    "\n",
    "clf = MLPClassifier(hidden_layer_sizes=(256,128,64,32),activation=\"relu\",random_state=1).fit(xtrain_tfidf_ngram, train_y)\n",
    "y_pred=clf.predict(xvalid_tfidf_ngram)\n",
    "print(clf.score(xvalid_tfidf_ngram, valid_y))\n",
    "\n",
    "print(metrics.classification_report(valid_y, y_pred))\n",
    "\n",
    "fig=plot_confusion_matrix(clf, xvalid_tfidf_ngram, valid_y,display_labels=[\"Sports\",\"Entertainment\",\"Business\"])\n",
    "fig.figure_.suptitle(\"Confusion Matrix\")\n",
    "plt.show()\n",
    "\n",
    "print(\"predicting data \")\n",
    "print(validdata['col1'][30])\n",
    "print(encoder.transform([validdata['col1'][30]]))\n",
    "xvalid_tfidf_ngram =  tfidf_vect_ngram.transform([validdata['col2'][30]])\n",
    "clf.predict(xvalid_tfidf_ngram)"
   ]
  },
  {
   "cell_type": "markdown",
   "metadata": {},
   "source": [
    "## Character Level "
   ]
  },
  {
   "cell_type": "code",
   "execution_count": 44,
   "metadata": {},
   "outputs": [
    {
     "name": "stdout",
     "output_type": "stream",
     "text": [
      "0.9933305543976657\n",
      "              precision    recall  f1-score   support\n",
      "\n",
      "           0       1.00      0.99      1.00       800\n",
      "           1       0.99      1.00      0.99       818\n",
      "           2       1.00      0.99      0.99       781\n",
      "\n",
      "    accuracy                           0.99      2399\n",
      "   macro avg       0.99      0.99      0.99      2399\n",
      "weighted avg       0.99      0.99      0.99      2399\n",
      "\n"
     ]
    },
    {
     "data": {
      "image/png": "[encoded data removed]",
      "text/plain": [
       "<Figure size 432x288 with 2 Axes>"
      ]
     },
     "metadata": {
      "needs_background": "light"
     },
     "output_type": "display_data"
    },
    {
     "name": "stdout",
     "output_type": "stream",
     "text": [
      "predicting data \n",
      "entertainment\n",
      "[1]\n"
     ]
    },
    {
     "data": {
      "text/plain": [
       "array([1])"
      ]
     },
     "execution_count": 44,
     "metadata": {},
     "output_type": "execute_result"
    }
   ],
   "source": [
    "# characters level tf-idf\n",
    "tfidf_vect_ngram_chars = TfidfVectorizer(analyzer='char', token_pattern=r'\\w{1,}', ngram_range=(2,3), max_features=5000)\n",
    "tfidf_vect_ngram_chars.fit(traindata['news'])\n",
    "xtrain_tfidf_ngram_chars =  tfidf_vect_ngram_chars.transform(train_x) \n",
    "xvalid_tfidf_ngram_chars =  tfidf_vect_ngram_chars.transform(valid_x)\n",
    "\n",
    "clf = MLPClassifier(hidden_layer_sizes=(256,128,64,32),activation=\"relu\",random_state=1).fit(xtrain_tfidf_ngram_chars, train_y)\n",
    "y_pred=clf.predict(xvalid_tfidf_ngram_chars)\n",
    "print(clf.score(xvalid_tfidf_ngram_chars, valid_y))\n",
    "\n",
    "print(metrics.classification_report(valid_y, y_pred))\n",
    "\n",
    "fig=plot_confusion_matrix(clf, xvalid_tfidf_ngram_chars, valid_y,display_labels=[\"Sports\",\"Entertainment\",\"Business\"])\n",
    "fig.figure_.suptitle(\"Confusion Matrix\")\n",
    "plt.show()\n",
    "\n",
    "print(\"predicting data \")\n",
    "print(validdata['col1'][30])\n",
    "print(encoder.transform([validdata['col1'][30]]))\n",
    "xvalid_tfidf_ngram_chars =  tfidf_vect_ngram_chars.transform([validdata['col1'][30]])\n",
    "clf.predict(xvalid_tfidf_ngram_chars)"
   ]
  },
  {
   "cell_type": "markdown",
   "metadata": {},
   "source": [
    "# RandomForest Classifier"
   ]
  },
  {
   "cell_type": "code",
   "execution_count": 47,
   "metadata": {},
   "outputs": [],
   "source": [
    "# word level tf-idf\n",
    "tfidf_vect = TfidfVectorizer(analyzer='word', token_pattern=r'\\w{1,}', max_features=5000)\n",
    "tfidf_vect.fit(traindata['news'])\n",
    "xtrain_tfidf =  tfidf_vect.transform(train_x)\n",
    "xvalid_tfidf =  tfidf_vect.transform(valid_x)\n",
    "\n",
    "# ngram level tf-idf \n",
    "tfidf_vect_ngram = TfidfVectorizer(analyzer='word', token_pattern=r'\\w{1,}', ngram_range=(2,3), max_features=5000)\n",
    "tfidf_vect_ngram.fit(traindata['news'])\n",
    "xtrain_tfidf_ngram =  tfidf_vect_ngram.transform(train_x)\n",
    "xvalid_tfidf_ngram =  tfidf_vect_ngram.transform(valid_x)\n",
    "\n",
    "# characters level tf-idf\n",
    "tfidf_vect_ngram_chars = TfidfVectorizer(analyzer='char', token_pattern=r'\\w{1,}', ngram_range=(2,3), max_features=5000)\n",
    "tfidf_vect_ngram_chars.fit(traindata['news'])\n",
    "xtrain_tfidf_ngram_chars =  tfidf_vect_ngram_chars.transform(train_x) \n",
    "xvalid_tfidf_ngram_chars =  tfidf_vect_ngram_chars.transform(valid_x)"
   ]
  },
  {
   "cell_type": "markdown",
   "metadata": {},
   "source": [
    "## Word Level "
   ]
  },
  {
   "cell_type": "code",
   "execution_count": 48,
   "metadata": {},
   "outputs": [
    {
     "name": "stdout",
     "output_type": "stream",
     "text": [
      "0.9670696123384743\n",
      "              precision    recall  f1-score   support\n",
      "\n",
      "           0       0.96      0.98      0.97       800\n",
      "           1       0.95      0.99      0.97       818\n",
      "           2       0.99      0.93      0.96       781\n",
      "\n",
      "    accuracy                           0.97      2399\n",
      "   macro avg       0.97      0.97      0.97      2399\n",
      "weighted avg       0.97      0.97      0.97      2399\n",
      "\n"
     ]
    },
    {
     "data": {
      "image/png": "[encoded data removed]",
      "text/plain": [
       "<Figure size 432x288 with 2 Axes>"
      ]
     },
     "metadata": {
      "needs_background": "light"
     },
     "output_type": "display_data"
    },
    {
     "name": "stdout",
     "output_type": "stream",
     "text": [
      "predicting data \n",
      "sports\n",
      "[2]\n"
     ]
    },
    {
     "data": {
      "text/plain": [
       "array([2])"
      ]
     },
     "execution_count": 48,
     "metadata": {},
     "output_type": "execute_result"
    }
   ],
   "source": [
    "# RF on Word Level TF IDF Vectors\n",
    "clf = RandomForestClassifier().fit(xtrain_tfidf, train_y)\n",
    "y_pred=clf.predict(xvalid_tfidf)\n",
    "print(clf.score(xvalid_tfidf, valid_y))\n",
    "\n",
    "print(metrics.classification_report(valid_y, y_pred))\n",
    "\n",
    "fig=plot_confusion_matrix(clf, xvalid_tfidf, valid_y,display_labels=[\"Sports\",\"Entertainment\",\"Business\"])\n",
    "fig.figure_.suptitle(\"Confusion Matrix\")\n",
    "plt.show()\n",
    "\n",
    "print(\"predicting data \")\n",
    "print(validdata['col1'][40])\n",
    "print(encoder.transform([validdata['col1'][40]]))\n",
    "xvalid_tfidf= tfidf_vect.transform([validdata['col2'][40]])\n",
    "clf.predict(xvalid_tfidf)"
   ]
  },
  {
   "cell_type": "markdown",
   "metadata": {},
   "source": [
    "## Ngram Level"
   ]
  },
  {
   "cell_type": "code",
   "execution_count": 49,
   "metadata": {},
   "outputs": [
    {
     "name": "stdout",
     "output_type": "stream",
     "text": [
      "0.9879116298457691\n",
      "              precision    recall  f1-score   support\n",
      "\n",
      "           0       0.99      0.99      0.99       800\n",
      "           1       0.98      1.00      0.99       818\n",
      "           2       1.00      0.97      0.99       781\n",
      "\n",
      "    accuracy                           0.99      2399\n",
      "   macro avg       0.99      0.99      0.99      2399\n",
      "weighted avg       0.99      0.99      0.99      2399\n",
      "\n"
     ]
    },
    {
     "data": {
      "image/png": "[encoded data removed]",
      "text/plain": [
       "<Figure size 432x288 with 2 Axes>"
      ]
     },
     "metadata": {
      "needs_background": "light"
     },
     "output_type": "display_data"
    },
    {
     "name": "stdout",
     "output_type": "stream",
     "text": [
      "predicting data \n",
      "sports\n",
      "[2]\n"
     ]
    },
    {
     "data": {
      "text/plain": [
       "array([2])"
      ]
     },
     "execution_count": 49,
     "metadata": {},
     "output_type": "execute_result"
    }
   ],
   "source": [
    "# RF on Ngram Level TF IDF Vectors\n",
    "clf = RandomForestClassifier().fit(xtrain_tfidf_ngram, train_y)\n",
    "y_pred=clf.predict(xvalid_tfidf_ngram)\n",
    "print(clf.score(xvalid_tfidf_ngram, valid_y))\n",
    "\n",
    "\n",
    "print(metrics.classification_report(valid_y, y_pred))\n",
    "\n",
    "fig=plot_confusion_matrix(clf, xvalid_tfidf_ngram, valid_y,display_labels=[\"Sports\",\"Entertainment\",\"Business\"])\n",
    "fig.figure_.suptitle(\"Confusion Matrix\")\n",
    "plt.show()\n",
    "\n",
    "print(\"predicting data \")\n",
    "print(validdata['col1'][40])\n",
    "print(encoder.transform([validdata['col1'][40]]))\n",
    "xvalid_tfidf_ngram =  tfidf_vect_ngram.transform([validdata['col2'][40]])\n",
    "clf.predict(xvalid_tfidf_ngram)"
   ]
  },
  {
   "cell_type": "markdown",
   "metadata": {},
   "source": [
    "## Characters level"
   ]
  },
  {
   "cell_type": "code",
   "execution_count": 50,
   "metadata": {},
   "outputs": [
    {
     "name": "stdout",
     "output_type": "stream",
     "text": [
      "0.9870779491454773\n",
      "              precision    recall  f1-score   support\n",
      "\n",
      "           0       0.99      0.99      0.99       800\n",
      "           1       0.98      1.00      0.99       818\n",
      "           2       0.99      0.97      0.98       781\n",
      "\n",
      "    accuracy                           0.99      2399\n",
      "   macro avg       0.99      0.99      0.99      2399\n",
      "weighted avg       0.99      0.99      0.99      2399\n",
      "\n"
     ]
    },
    {
     "data": {
      "image/png": "[encoded data removed]",
      "text/plain": [
       "<Figure size 432x288 with 2 Axes>"
      ]
     },
     "metadata": {
      "needs_background": "light"
     },
     "output_type": "display_data"
    },
    {
     "name": "stdout",
     "output_type": "stream",
     "text": [
      "predicting data \n",
      "sports\n",
      "[2]\n"
     ]
    },
    {
     "data": {
      "text/plain": [
       "array([2])"
      ]
     },
     "execution_count": 50,
     "metadata": {},
     "output_type": "execute_result"
    }
   ],
   "source": [
    "# RF on Character Level TF IDF Vectors\n",
    "clf = RandomForestClassifier().fit(xtrain_tfidf_ngram_chars, train_y)\n",
    "y_pred=clf.predict(xvalid_tfidf_ngram_chars)\n",
    "print(clf.score(xvalid_tfidf_ngram_chars, valid_y))\n",
    "\n",
    "\n",
    "print(metrics.classification_report(valid_y, y_pred))\n",
    "\n",
    "fig=plot_confusion_matrix(clf, xvalid_tfidf_ngram_chars, valid_y,display_labels=[\"Sports\",\"Entertainment\",\"Business\"])\n",
    "fig.figure_.suptitle(\"Confusion Matrix\")\n",
    "plt.show()\n",
    "\n",
    "print(\"predicting data \")\n",
    "print(validdata['col1'][40])\n",
    "print(encoder.transform([validdata['col1'][40]]))\n",
    "xvalid_tfidf_ngram_chars =  tfidf_vect_ngram_chars.transform([validdata['col2'][40]])\n",
    "clf.predict(xvalid_tfidf_ngram_chars)"
   ]
  },
  {
   "cell_type": "markdown",
   "metadata": {},
   "source": [
    "# Decision Tree Classifier"
   ]
  },
  {
   "cell_type": "code",
   "execution_count": 51,
   "metadata": {},
   "outputs": [],
   "source": [
    "# word level tf-idf\n",
    "tfidf_vect = TfidfVectorizer(analyzer='word', token_pattern=r'\\w{1,}', max_features=5000)\n",
    "tfidf_vect.fit(traindata['news'])\n",
    "xtrain_tfidf =  tfidf_vect.transform(train_x)\n",
    "xvalid_tfidf =  tfidf_vect.transform(valid_x)\n",
    "\n",
    "# ngram level tf-idf \n",
    "tfidf_vect_ngram = TfidfVectorizer(analyzer='word', token_pattern=r'\\w{1,}', ngram_range=(2,3), max_features=5000)\n",
    "tfidf_vect_ngram.fit(traindata['news'])\n",
    "xtrain_tfidf_ngram =  tfidf_vect_ngram.transform(train_x)\n",
    "xvalid_tfidf_ngram =  tfidf_vect_ngram.transform(valid_x)\n",
    "\n",
    "# characters level tf-idf\n",
    "tfidf_vect_ngram_chars = TfidfVectorizer(analyzer='char', token_pattern=r'\\w{1,}', ngram_range=(2,3), max_features=5000)\n",
    "tfidf_vect_ngram_chars.fit(traindata['news'])\n",
    "xtrain_tfidf_ngram_chars =  tfidf_vect_ngram_chars.transform(train_x) \n",
    "xvalid_tfidf_ngram_chars =  tfidf_vect_ngram_chars.transform(valid_x)"
   ]
  },
  {
   "cell_type": "markdown",
   "metadata": {},
   "source": [
    "## Word level "
   ]
  },
  {
   "cell_type": "code",
   "execution_count": 52,
   "metadata": {},
   "outputs": [
    {
     "name": "stdout",
     "output_type": "stream",
     "text": [
      "0.905794080867028\n",
      "              precision    recall  f1-score   support\n",
      "\n",
      "           0       0.91      0.92      0.91       800\n",
      "           1       0.90      0.91      0.91       818\n",
      "           2       0.90      0.90      0.90       781\n",
      "\n",
      "    accuracy                           0.91      2399\n",
      "   macro avg       0.91      0.91      0.91      2399\n",
      "weighted avg       0.91      0.91      0.91      2399\n",
      "\n"
     ]
    },
    {
     "data": {
      "image/png": "[encoded data removed]",
      "text/plain": [
       "<Figure size 432x288 with 2 Axes>"
      ]
     },
     "metadata": {
      "needs_background": "light"
     },
     "output_type": "display_data"
    },
    {
     "name": "stdout",
     "output_type": "stream",
     "text": [
      "predicting data \n",
      "sports\n",
      "[2]\n"
     ]
    },
    {
     "data": {
      "text/plain": [
       "array([2])"
      ]
     },
     "execution_count": 52,
     "metadata": {},
     "output_type": "execute_result"
    }
   ],
   "source": [
    "clf = DecisionTreeClassifier().fit(xtrain_tfidf, train_y)\n",
    "y_pred=clf.predict(xvalid_tfidf)\n",
    "print(clf.score(xvalid_tfidf, valid_y))\n",
    "\n",
    "print(metrics.classification_report(valid_y, y_pred))\n",
    "\n",
    "fig=plot_confusion_matrix(clf, xvalid_tfidf, valid_y,display_labels=[\"Sports\",\"Entertainment\",\"Business\"])\n",
    "fig.figure_.suptitle(\"Confusion Matrix\")\n",
    "plt.show()\n",
    "\n",
    "print(\"predicting data \")\n",
    "print(validdata['col1'][40])\n",
    "print(encoder.transform([validdata['col1'][40]]))\n",
    "xvalid_tfidf= tfidf_vect.transform([validdata['col2'][40]])\n",
    "clf.predict(xvalid_tfidf)"
   ]
  },
  {
   "cell_type": "markdown",
   "metadata": {},
   "source": [
    "## Ngram Level"
   ]
  },
  {
   "cell_type": "code",
   "execution_count": 53,
   "metadata": {},
   "outputs": [
    {
     "name": "stdout",
     "output_type": "stream",
     "text": [
      "0.9395581492288454\n",
      "              precision    recall  f1-score   support\n",
      "\n",
      "           0       0.94      0.94      0.94       800\n",
      "           1       0.94      0.94      0.94       818\n",
      "           2       0.94      0.94      0.94       781\n",
      "\n",
      "    accuracy                           0.94      2399\n",
      "   macro avg       0.94      0.94      0.94      2399\n",
      "weighted avg       0.94      0.94      0.94      2399\n",
      "\n"
     ]
    },
    {
     "data": {
      "image/png": "[encoded data removed]",
      "text/plain": [
       "<Figure size 432x288 with 2 Axes>"
      ]
     },
     "metadata": {
      "needs_background": "light"
     },
     "output_type": "display_data"
    },
    {
     "name": "stdout",
     "output_type": "stream",
     "text": [
      "predicting data \n",
      "business\n",
      "[0]\n"
     ]
    },
    {
     "data": {
      "text/plain": [
       "array([0])"
      ]
     },
     "execution_count": 53,
     "metadata": {},
     "output_type": "execute_result"
    }
   ],
   "source": [
    "clf = DecisionTreeClassifier().fit(xtrain_tfidf_ngram, train_y)\n",
    "y_pred=clf.predict(xvalid_tfidf_ngram)\n",
    "print(clf.score(xvalid_tfidf_ngram, valid_y))\n",
    "\n",
    "\n",
    "print(metrics.classification_report(valid_y, y_pred))\n",
    "\n",
    "fig=plot_confusion_matrix(clf, xvalid_tfidf_ngram, valid_y,display_labels=[\"Sports\",\"Entertainment\",\"Business\"])\n",
    "fig.figure_.suptitle(\"Confusion Matrix\")\n",
    "plt.show()\n",
    "\n",
    "print(\"predicting data \")\n",
    "print(validdata['col1'][39])\n",
    "print(encoder.transform([validdata['col1'][39]]))\n",
    "xvalid_tfidf_ngram =  tfidf_vect_ngram.transform([validdata['col2'][39]])\n",
    "clf.predict(xvalid_tfidf_ngram)"
   ]
  },
  {
   "cell_type": "markdown",
   "metadata": {},
   "source": [
    "## Characters level"
   ]
  },
  {
   "cell_type": "code",
   "execution_count": 54,
   "metadata": {},
   "outputs": [
    {
     "name": "stdout",
     "output_type": "stream",
     "text": [
      "0.944977073780742\n",
      "              precision    recall  f1-score   support\n",
      "\n",
      "           0       0.95      0.94      0.95       800\n",
      "           1       0.95      0.94      0.95       818\n",
      "           2       0.94      0.95      0.94       781\n",
      "\n",
      "    accuracy                           0.94      2399\n",
      "   macro avg       0.94      0.94      0.94      2399\n",
      "weighted avg       0.94      0.94      0.94      2399\n",
      "\n"
     ]
    },
    {
     "data": {
      "image/png": "[encoded data removed]",
      "text/plain": [
       "<Figure size 432x288 with 2 Axes>"
      ]
     },
     "metadata": {
      "needs_background": "light"
     },
     "output_type": "display_data"
    },
    {
     "name": "stdout",
     "output_type": "stream",
     "text": [
      "predicting data \n",
      "sports\n",
      "[2]\n"
     ]
    },
    {
     "data": {
      "text/plain": [
       "array([2])"
      ]
     },
     "execution_count": 54,
     "metadata": {},
     "output_type": "execute_result"
    }
   ],
   "source": [
    "clf = DecisionTreeClassifier().fit(xtrain_tfidf_ngram_chars, train_y)\n",
    "y_pred=clf.predict(xvalid_tfidf_ngram_chars)\n",
    "print(clf.score(xvalid_tfidf_ngram_chars, valid_y))\n",
    "\n",
    "\n",
    "print(metrics.classification_report(valid_y, y_pred))\n",
    "\n",
    "fig=plot_confusion_matrix(clf, xvalid_tfidf_ngram_chars, valid_y,display_labels=[\"Sports\",\"Entertainment\",\"Business\"])\n",
    "fig.figure_.suptitle(\"Confusion Matrix\")\n",
    "plt.show()\n",
    "\n",
    "print(\"predicting data \")\n",
    "print(validdata['col1'][40])\n",
    "print(encoder.transform([validdata['col1'][40]]))\n",
    "xvalid_tfidf_ngram_chars =  tfidf_vect_ngram_chars.transform([validdata['col2'][40]])\n",
    "clf.predict(xvalid_tfidf_ngram_chars)"
   ]
  },
  {
   "cell_type": "markdown",
   "metadata": {},
   "source": [
    "# Logistic Regression "
   ]
  },
  {
   "cell_type": "code",
   "execution_count": 56,
   "metadata": {},
   "outputs": [],
   "source": [
    "# word level tf-idf\n",
    "tfidf_vect = TfidfVectorizer(analyzer='word', token_pattern=r'\\w{1,}', max_features=5000)\n",
    "tfidf_vect.fit(traindata['news'])\n",
    "xtrain_tfidf =  tfidf_vect.transform(train_x)\n",
    "xvalid_tfidf =  tfidf_vect.transform(valid_x)\n",
    "\n",
    "# ngram level tf-idf \n",
    "tfidf_vect_ngram = TfidfVectorizer(analyzer='word', token_pattern=r'\\w{1,}', ngram_range=(2,3), max_features=5000)\n",
    "tfidf_vect_ngram.fit(traindata['news'])\n",
    "xtrain_tfidf_ngram =  tfidf_vect_ngram.transform(train_x)\n",
    "xvalid_tfidf_ngram =  tfidf_vect_ngram.transform(valid_x)\n",
    "\n",
    "# characters level tf-idf\n",
    "tfidf_vect_ngram_chars = TfidfVectorizer(analyzer='char', token_pattern=r'\\w{1,}', ngram_range=(2,3), max_features=5000)\n",
    "tfidf_vect_ngram_chars.fit(traindata['news'])\n",
    "xtrain_tfidf_ngram_chars =  tfidf_vect_ngram_chars.transform(train_x) \n",
    "xvalid_tfidf_ngram_chars =  tfidf_vect_ngram_chars.transform(valid_x)"
   ]
  },
  {
   "cell_type": "markdown",
   "metadata": {},
   "source": [
    "## Word level "
   ]
  },
  {
   "cell_type": "code",
   "execution_count": 57,
   "metadata": {},
   "outputs": [
    {
     "name": "stdout",
     "output_type": "stream",
     "text": [
      "0.9729053772405168\n",
      "              precision    recall  f1-score   support\n",
      "\n",
      "           0       0.97      0.99      0.98       800\n",
      "           1       0.96      0.98      0.97       818\n",
      "           2       0.99      0.95      0.97       781\n",
      "\n",
      "    accuracy                           0.97      2399\n",
      "   macro avg       0.97      0.97      0.97      2399\n",
      "weighted avg       0.97      0.97      0.97      2399\n",
      "\n"
     ]
    },
    {
     "data": {
      "image/png": "[encoded data removed]",
      "text/plain": [
       "<Figure size 432x288 with 2 Axes>"
      ]
     },
     "metadata": {
      "needs_background": "light"
     },
     "output_type": "display_data"
    },
    {
     "name": "stdout",
     "output_type": "stream",
     "text": [
      "predicting data \n",
      "entertainment\n",
      "[1]\n"
     ]
    },
    {
     "data": {
      "text/plain": [
       "array([1])"
      ]
     },
     "execution_count": 57,
     "metadata": {},
     "output_type": "execute_result"
    }
   ],
   "source": [
    "# LR on Word Level TF IDF Vectors\n",
    "clf = linear_model.LogisticRegression().fit(xtrain_tfidf, train_y)\n",
    "y_pred=clf.predict(xvalid_tfidf)\n",
    "print(clf.score(xvalid_tfidf, valid_y))\n",
    "\n",
    "print(metrics.classification_report(valid_y, y_pred))\n",
    "\n",
    "fig=plot_confusion_matrix(clf, xvalid_tfidf, valid_y,display_labels=[\"Sports\",\"Entertainment\",\"Business\"])\n",
    "fig.figure_.suptitle(\"Confusion Matrix\")\n",
    "plt.show()\n",
    "\n",
    "print(\"predicting data \")\n",
    "print(validdata['col1'][30])\n",
    "print(encoder.transform([validdata['col1'][30]]))\n",
    "xvalid_tfidf= tfidf_vect.transform([validdata['col2'][30]])\n",
    "clf.predict(xvalid_tfidf)"
   ]
  },
  {
   "cell_type": "markdown",
   "metadata": {},
   "source": [
    "## Ngram level "
   ]
  },
  {
   "cell_type": "code",
   "execution_count": 58,
   "metadata": {},
   "outputs": [
    {
     "name": "stdout",
     "output_type": "stream",
     "text": [
      "0.9916631929970822\n",
      "              precision    recall  f1-score   support\n",
      "\n",
      "           0       0.99      0.99      0.99       800\n",
      "           1       0.99      1.00      0.99       818\n",
      "           2       0.99      0.99      0.99       781\n",
      "\n",
      "    accuracy                           0.99      2399\n",
      "   macro avg       0.99      0.99      0.99      2399\n",
      "weighted avg       0.99      0.99      0.99      2399\n",
      "\n"
     ]
    },
    {
     "data": {
      "image/png": "[encoded data removed]",
      "text/plain": [
       "<Figure size 432x288 with 2 Axes>"
      ]
     },
     "metadata": {
      "needs_background": "light"
     },
     "output_type": "display_data"
    },
    {
     "name": "stdout",
     "output_type": "stream",
     "text": [
      "predicting data \n",
      "entertainment\n",
      "[1]\n"
     ]
    },
    {
     "data": {
      "text/plain": [
       "array([1])"
      ]
     },
     "execution_count": 58,
     "metadata": {},
     "output_type": "execute_result"
    }
   ],
   "source": [
    "# LR on Ngram Level TF IDF Vectors\n",
    "clf = linear_model.LogisticRegression().fit(xtrain_tfidf_ngram, train_y)\n",
    "y_pred=clf.predict(xvalid_tfidf_ngram)\n",
    "print(clf.score(xvalid_tfidf_ngram, valid_y))\n",
    "\n",
    "\n",
    "print(metrics.classification_report(valid_y, y_pred))\n",
    "\n",
    "fig=plot_confusion_matrix(clf, xvalid_tfidf_ngram, valid_y,display_labels=[\"Sports\",\"Entertainment\",\"Business\"])\n",
    "fig.figure_.suptitle(\"Confusion Matrix\")\n",
    "plt.show()\n",
    "\n",
    "print(\"predicting data \")\n",
    "print(validdata['col1'][30])\n",
    "print(encoder.transform([validdata['col1'][30]]))\n",
    "xvalid_tfidf_ngram =  tfidf_vect_ngram.transform([validdata['col2'][30]])\n",
    "clf.predict(xvalid_tfidf_ngram)"
   ]
  },
  {
   "cell_type": "markdown",
   "metadata": {},
   "source": [
    "## Characters Level "
   ]
  },
  {
   "cell_type": "code",
   "execution_count": 59,
   "metadata": {},
   "outputs": [
    {
     "name": "stdout",
     "output_type": "stream",
     "text": [
      "0.9912463526469362\n",
      "              precision    recall  f1-score   support\n",
      "\n",
      "           0       1.00      0.99      1.00       800\n",
      "           1       0.98      1.00      0.99       818\n",
      "           2       1.00      0.98      0.99       781\n",
      "\n",
      "    accuracy                           0.99      2399\n",
      "   macro avg       0.99      0.99      0.99      2399\n",
      "weighted avg       0.99      0.99      0.99      2399\n",
      "\n"
     ]
    },
    {
     "data": {
      "image/png": "[encoded data removed]",
      "text/plain": [
       "<Figure size 432x288 with 2 Axes>"
      ]
     },
     "metadata": {
      "needs_background": "light"
     },
     "output_type": "display_data"
    },
    {
     "name": "stdout",
     "output_type": "stream",
     "text": [
      "predicting data \n",
      "entertainment\n",
      "[1]\n"
     ]
    },
    {
     "data": {
      "text/plain": [
       "array([1])"
      ]
     },
     "execution_count": 59,
     "metadata": {},
     "output_type": "execute_result"
    }
   ],
   "source": [
    "# LR on Character Level TF IDF Vectors\n",
    "clf = linear_model.LogisticRegression().fit(xtrain_tfidf_ngram_chars, train_y)\n",
    "y_pred=clf.predict(xvalid_tfidf_ngram_chars)\n",
    "print(clf.score(xvalid_tfidf_ngram_chars, valid_y))\n",
    "\n",
    "\n",
    "print(metrics.classification_report(valid_y, y_pred))\n",
    "\n",
    "fig=plot_confusion_matrix(clf, xvalid_tfidf_ngram_chars, valid_y,display_labels=[\"Sports\",\"Entertainment\",\"Business\"])\n",
    "fig.figure_.suptitle(\"Confusion Matrix\")\n",
    "plt.show()\n",
    "\n",
    "print(\"predicting data \")\n",
    "print(validdata['col1'][30])\n",
    "print(encoder.transform([validdata['col1'][30]]))\n",
    "xvalid_tfidf_ngram_chars =  tfidf_vect_ngram_chars.transform([validdata['col1'][30]])\n",
    "clf.predict(xvalid_tfidf_ngram_chars)"
   ]
  },
  {
   "cell_type": "markdown",
   "metadata": {},
   "source": [
    "# Neural Networks  "
   ]
  },
  {
   "cell_type": "code",
   "execution_count": 4,
   "metadata": {},
   "outputs": [
    {
     "data": {
      "text/html": [
       "<div>\n",
       "<style scoped>\n",
       "    .dataframe tbody tr th:only-of-type {\n",
       "        vertical-align: middle;\n",
       "    }\n",
       "\n",
       "    .dataframe tbody tr th {\n",
       "        vertical-align: top;\n",
       "    }\n",
       "\n",
       "    .dataframe thead th {\n",
       "        text-align: right;\n",
       "    }\n",
       "</style>\n",
       "<table border=\"1\" class=\"dataframe\">\n",
       "  <thead>\n",
       "    <tr style=\"text-align: right;\">\n",
       "      <th></th>\n",
       "      <th>text</th>\n",
       "      <th>categories</th>\n",
       "    </tr>\n",
       "  </thead>\n",
       "  <tbody>\n",
       "    <tr>\n",
       "      <th>0</th>\n",
       "      <td>కారు నుంచి రోడ్డుపై చెత్తపడేసిన వ్యక్తికి.. ఆ ...</td>\n",
       "      <td>sports</td>\n",
       "    </tr>\n",
       "    <tr>\n",
       "      <th>1</th>\n",
       "      <td>ధోని కథ ముగిసిందా?\\nSun 27 Oct 01:52:52.003569...</td>\n",
       "      <td>sports</td>\n",
       "    </tr>\n",
       "    <tr>\n",
       "      <th>2</th>\n",
       "      <td>వార్తలు\\n12 నుంచి విజయవాడలో విమానయాన సదస్సు......</td>\n",
       "      <td>business</td>\n",
       "    </tr>\n",
       "    <tr>\n",
       "      <th>3</th>\n",
       "      <td>May 04,2015\\nఅంచనాలను చేరని ప్రత్యక్ష పన్ను వస...</td>\n",
       "      <td>business</td>\n",
       "    </tr>\n",
       "    <tr>\n",
       "      <th>4</th>\n",
       "      <td>వెలికితీతలో ప్రైవేటురంగానికి ప్రాధాన్యం  \\nకొత...</td>\n",
       "      <td>business</td>\n",
       "    </tr>\n",
       "    <tr>\n",
       "      <th>...</th>\n",
       "      <td>...</td>\n",
       "      <td>...</td>\n",
       "    </tr>\n",
       "    <tr>\n",
       "      <th>19194</th>\n",
       "      <td>Hyd Internet 116 Views Sachin Tendulkar\\nSachi...</td>\n",
       "      <td>sports</td>\n",
       "    </tr>\n",
       "    <tr>\n",
       "      <th>19195</th>\n",
       "      <td>సూర్యాపేట జిల్లాలో హైవేపై రెండు కార్లు దగ్ధం W...</td>\n",
       "      <td>entertainment</td>\n",
       "    </tr>\n",
       "    <tr>\n",
       "      <th>19196</th>\n",
       "      <td>May 12,2016\\nఅందుకే శాఖలు తెరవడం లేదు!\\nలండన్‌...</td>\n",
       "      <td>business</td>\n",
       "    </tr>\n",
       "    <tr>\n",
       "      <th>19197</th>\n",
       "      <td>రాజశేఖర్ గరుడవేగ హిట్ మూవీ కాదా.. ఈ లెక్కలేంటి...</td>\n",
       "      <td>entertainment</td>\n",
       "    </tr>\n",
       "    <tr>\n",
       "      <th>19198</th>\n",
       "      <td>Hyderabad, First Published 16, Aug 2018, 4:10 ...</td>\n",
       "      <td>entertainment</td>\n",
       "    </tr>\n",
       "  </tbody>\n",
       "</table>\n",
       "<p>19199 rows × 2 columns</p>\n",
       "</div>"
      ],
      "text/plain": [
       "                                                    text     categories\n",
       "0      కారు నుంచి రోడ్డుపై చెత్తపడేసిన వ్యక్తికి.. ఆ ...         sports\n",
       "1      ధోని కథ ముగిసిందా?\\nSun 27 Oct 01:52:52.003569...         sports\n",
       "2      వార్తలు\\n12 నుంచి విజయవాడలో విమానయాన సదస్సు......       business\n",
       "3      May 04,2015\\nఅంచనాలను చేరని ప్రత్యక్ష పన్ను వస...       business\n",
       "4      వెలికితీతలో ప్రైవేటురంగానికి ప్రాధాన్యం  \\nకొత...       business\n",
       "...                                                  ...            ...\n",
       "19194  Hyd Internet 116 Views Sachin Tendulkar\\nSachi...         sports\n",
       "19195  సూర్యాపేట జిల్లాలో హైవేపై రెండు కార్లు దగ్ధం W...  entertainment\n",
       "19196  May 12,2016\\nఅందుకే శాఖలు తెరవడం లేదు!\\nలండన్‌...       business\n",
       "19197  రాజశేఖర్ గరుడవేగ హిట్ మూవీ కాదా.. ఈ లెక్కలేంటి...  entertainment\n",
       "19198  Hyderabad, First Published 16, Aug 2018, 4:10 ...  entertainment\n",
       "\n",
       "[19199 rows x 2 columns]"
      ]
     },
     "execution_count": 4,
     "metadata": {},
     "output_type": "execute_result"
    }
   ],
   "source": [
    "traindata = pd.read_csv('te/te-train.csv',encoding=\"utf-8\")\n",
    "validdata=pd.read_csv('te/te-valid.csv')\n",
    "validdata.columns=['col1','col2']\n",
    "trainDF = pd.DataFrame()\n",
    "traindata.columns=['col1','col2']\n",
    "trainDF['text'] = traindata['col2']\n",
    "trainDF['categories'] = traindata['col1']\n",
    "validDF=pd.DataFrame()\n",
    "\n",
    "validDF['text'] = validdata['col2']\n",
    "validDF['categories'] = validdata['col1']\n",
    "\n",
    "\n",
    "    \n",
    "# print(texts)\n",
    "# print(labels)\n",
    "\n",
    "\n",
    "trainDF"
   ]
  },
  {
   "cell_type": "code",
   "execution_count": 8,
   "metadata": {},
   "outputs": [],
   "source": [
    "train_x,train_y= trainDF['text'], trainDF['categories']\n",
    "valid_x,valid_y=validDF['text'], validDF['categories']"
   ]
  },
  {
   "cell_type": "code",
   "execution_count": 9,
   "metadata": {},
   "outputs": [],
   "source": [
    "embeddings_index = {}\n",
    "\n",
    "import numpy as np\n",
    "\n",
    "from keras.preprocessing import text, sequence\n",
    "\n",
    "for i, line in enumerate(open('cc.te.300.vec\\cc.te.300.vec',encoding=\"utf-8\")):\n",
    "    values = line.split()\n",
    "    embeddings_index[values[0]] = np.asarray(values[1:], dtype='float32')\n",
    "    "
   ]
  },
  {
   "cell_type": "code",
   "execution_count": 10,
   "metadata": {},
   "outputs": [
    {
     "name": "stdout",
     "output_type": "stream",
     "text": [
      "(19199, 3)\n",
      "(2399, 3)\n"
     ]
    }
   ],
   "source": [
    "encoder = preprocessing.LabelEncoder()\n",
    "trainLabels = encoder.fit_transform(train_y)\n",
    "trainLabels = [np_utils.to_categorical(i, num_classes=3) for i in trainLabels]\n",
    "trainLabels = np.asarray(trainLabels)\n",
    "print(trainLabels.shape)\n",
    "validLabels = encoder.fit_transform(valid_y)\n",
    "validLabels = [np_utils.to_categorical(i, num_classes=3) for i in validLabels]\n",
    "validLabels = np.asarray(validLabels)\n",
    "print(validLabels.shape)"
   ]
  },
  {
   "cell_type": "code",
   "execution_count": 11,
   "metadata": {},
   "outputs": [
    {
     "name": "stdout",
     "output_type": "stream",
     "text": [
      "(19199, 27194)\n"
     ]
    }
   ],
   "source": [
    "count_vect = CountVectorizer()\n",
    "count_vect.fit(trainDF['text'])\n",
    "\n",
    "# transform the training and validation data using count vectorizer object\n",
    "xtrain_count =  count_vect.transform(train_x)\n",
    "xvalid_count =  count_vect.transform(valid_x)\n",
    "#print(xtrain_count)\n",
    "print(xtrain_count.shape)"
   ]
  },
  {
   "cell_type": "code",
   "execution_count": 12,
   "metadata": {},
   "outputs": [],
   "source": [
    "token = text.Tokenizer()\n",
    "token.fit_on_texts(trainDF['text'])\n",
    "word_index = token.word_index"
   ]
  },
  {
   "cell_type": "code",
   "execution_count": 13,
   "metadata": {},
   "outputs": [
    {
     "name": "stdout",
     "output_type": "stream",
     "text": [
      "[[  1064   1205    612 ...     84    464     39]\n",
      " [     0      0      0 ...   2381    518      1]\n",
      " [   677   2710  83110 ... 127093   1178    377]\n",
      " ...\n",
      " [     0      0      0 ...    159    161    162]\n",
      " [    48   3294    482 ...    821     62     10]\n",
      " [ 24638    345    713 ...    703 100031     22]]\n",
      "(19199, 150)\n",
      "(2399, 150)\n"
     ]
    }
   ],
   "source": [
    "input_size = 150\n",
    "train_seq_x = sequence.pad_sequences(token.texts_to_sequences(train_x),maxlen=input_size)\n",
    "valid_seq_x = sequence.pad_sequences(token.texts_to_sequences(valid_x),maxlen=input_size)\n",
    "print(train_seq_x)\n",
    "print(train_seq_x.shape)\n",
    "print(valid_seq_x.shape)"
   ]
  },
  {
   "cell_type": "markdown",
   "metadata": {},
   "source": [
    "# Convolutional Neural Network"
   ]
  },
  {
   "cell_type": "code",
   "execution_count": 14,
   "metadata": {},
   "outputs": [
    {
     "name": "stdout",
     "output_type": "stream",
     "text": [
      "[[ 0.      0.      0.     ...  0.      0.      0.    ]\n",
      " [ 0.0141  0.0535 -0.0414 ...  0.038  -0.0589 -0.0018]\n",
      " [-0.0043 -0.02    0.0177 ...  0.0183  0.0265 -0.0276]\n",
      " ...\n",
      " [-0.0115  0.0076  0.0139 ...  0.0131  0.0018 -0.0031]\n",
      " [ 0.      0.      0.     ...  0.      0.      0.    ]\n",
      " [ 0.      0.      0.     ...  0.      0.      0.    ]]\n",
      "(292445, 300)\n"
     ]
    }
   ],
   "source": [
    "embedding_matrix = np.zeros((len(word_index)+1, 300))\n",
    "\n",
    "for word,i in word_index.items():\n",
    "        embedding_vector = embeddings_index.get(word)    # checking that particular indexed word in telugu embedding .vec file\n",
    "        if embedding_vector is not None:                 # if it is found in that .vec file  \n",
    "            embedding_matrix[i] = embedding_vector       # store that vector of that word in .vec file saved to embedding matrix\n",
    "               \n",
    "print(embedding_matrix)  \n",
    "print(embedding_matrix.shape)"
   ]
  },
  {
   "cell_type": "code",
   "execution_count": 50,
   "metadata": {},
   "outputs": [],
   "source": [
    "def create_cnn():\n",
    "    # Add an Input Layer\n",
    "    input_layer = layers.Input((input_size, ))\n",
    "\n",
    "    # Add the word embedding Layer\n",
    "    embedding_layer = layers.Embedding(len(word_index) + 1, 300, weights=[embedding_matrix], trainable=False)(input_layer)\n",
    "    embedding_layer = layers.SpatialDropout1D(0.25)(embedding_layer)\n",
    "\n",
    "    #Add the convolutional layer\n",
    "    conv_layer = layers.Convolution1D(256, 3, activation=\"tanh\")(embedding_layer)\n",
    "    \n",
    "    #Add the pooling layer\n",
    "    pooling_layer = layers.GlobalMaxPool1D()(conv_layer)\n",
    "    \n",
    "    # Add the output Layers\n",
    "    output_layer1 = layers.Dense(128, activation=\"tanh\")(pooling_layer)\n",
    "    output_layer1 = layers.Dropout(0.25)(output_layer1)\n",
    "    output_layer2 = layers.Dense(3, activation=\"softmax\")(output_layer1)\n",
    "\n",
    "    # Compile the model\n",
    "    model = models.Model(inputs=input_layer, outputs=output_layer2)\n",
    "    model.compile(optimizer=optimizers.Adam(), loss='categorical_crossentropy',metrics=['accuracy'])\n",
    "    #model.compile(optimizer='rmsprop', loss='binary_crossentropy', metrics=['accuracy'])\n",
    "    #model.compile(loss='categorical_crossentropy', optimizer='SGD', metrics=['accuracy'])\n",
    "    \n",
    "    \n",
    "    print(model.summary())\n",
    "    return model"
   ]
  },
  {
   "cell_type": "code",
   "execution_count": 56,
   "metadata": {},
   "outputs": [
    {
     "name": "stdout",
     "output_type": "stream",
     "text": [
      "Model: \"model_16\"\n",
      "_________________________________________________________________\n",
      "Layer (type)                 Output Shape              Param #   \n",
      "=================================================================\n",
      "input_17 (InputLayer)        [(None, 150)]             0         \n",
      "_________________________________________________________________\n",
      "embedding_16 (Embedding)     (None, 150, 300)          87733500  \n",
      "_________________________________________________________________\n",
      "spatial_dropout1d_16 (Spatia (None, 150, 300)          0         \n",
      "_________________________________________________________________\n",
      "conv1d_15 (Conv1D)           (None, 148, 256)          230656    \n",
      "_________________________________________________________________\n",
      "global_max_pooling1d_15 (Glo (None, 256)               0         \n",
      "_________________________________________________________________\n",
      "dense_32 (Dense)             (None, 128)               32896     \n",
      "_________________________________________________________________\n",
      "dropout_15 (Dropout)         (None, 128)               0         \n",
      "_________________________________________________________________\n",
      "dense_33 (Dense)             (None, 3)                 387       \n",
      "=================================================================\n",
      "Total params: 87,997,439\n",
      "Trainable params: 263,939\n",
      "Non-trainable params: 87,733,500\n",
      "_________________________________________________________________\n",
      "None\n",
      "Epoch 1/10\n",
      "600/600 [==============================] - 71s 98ms/step - loss: 0.3021 - accuracy: 0.8891\n",
      "Epoch 2/10\n",
      "600/600 [==============================] - 59s 98ms/step - loss: 0.0357 - accuracy: 0.9895\n",
      "Epoch 3/10\n",
      "600/600 [==============================] - 58s 97ms/step - loss: 0.0217 - accuracy: 0.9934\n",
      "Epoch 4/10\n",
      "600/600 [==============================] - 58s 97ms/step - loss: 0.0122 - accuracy: 0.9966\n",
      "Epoch 5/10\n",
      "600/600 [==============================] - 58s 96ms/step - loss: 0.0133 - accuracy: 0.9956\n",
      "Epoch 6/10\n",
      "600/600 [==============================] - 58s 97ms/step - loss: 0.0094 - accuracy: 0.9960\n",
      "Epoch 7/10\n",
      "600/600 [==============================] - 58s 97ms/step - loss: 0.0034 - accuracy: 0.9990\n",
      "Epoch 8/10\n",
      "600/600 [==============================] - 58s 97ms/step - loss: 0.0063 - accuracy: 0.9980\n",
      "Epoch 9/10\n",
      "600/600 [==============================] - 60s 99ms/step - loss: 0.0090 - accuracy: 0.9965\n",
      "Epoch 10/10\n",
      "600/600 [==============================] - 58s 97ms/step - loss: 0.0040 - accuracy: 0.9989\n"
     ]
    }
   ],
   "source": [
    "classifier = create_cnn()\n",
    "is_neural_net = True\n",
    "classifier.fit(train_seq_x, trainLabels, epochs=10)\n",
    "    \n",
    "predictions = classifier.predict(valid_seq_x)\n",
    "predictions1 = predictions.argmax(axis=-1)\n",
    "validLabels1 = validLabels.argmax(axis=-1)"
   ]
  },
  {
   "cell_type": "code",
   "execution_count": 57,
   "metadata": {},
   "outputs": [
    {
     "name": "stdout",
     "output_type": "stream",
     "text": [
      "0.9929137140475198\n",
      "              precision    recall  f1-score   support\n",
      "\n",
      "           0       0.99      1.00      0.99       796\n",
      "           1       0.99      1.00      0.99       815\n",
      "           2       0.99      0.99      0.99       788\n",
      "\n",
      "    accuracy                           0.99      2399\n",
      "   macro avg       0.99      0.99      0.99      2399\n",
      "weighted avg       0.99      0.99      0.99      2399\n",
      "\n"
     ]
    }
   ],
   "source": [
    "acc = metrics.accuracy_score(predictions1, validLabels) \n",
    "print(acc)\n",
    "print(metrics.classification_report(predictions1, validLabels))"
   ]
  },
  {
   "cell_type": "markdown",
   "metadata": {},
   "source": [
    "# Bidirectional RNN"
   ]
  },
  {
   "cell_type": "code",
   "execution_count": 58,
   "metadata": {},
   "outputs": [],
   "source": [
    "def create_bidirectional_rnn():\n",
    "    # Add an Input Layer\n",
    "    input_layer = layers.Input((150, ))\n",
    "\n",
    "    # Add the word embedding Layer\n",
    "    embedding_layer = layers.Embedding(len(word_index) + 1, 300, weights=[embedding_matrix], trainable=False)(input_layer)\n",
    "    embedding_layer = layers.SpatialDropout1D(0.3)(embedding_layer)\n",
    "\n",
    "    # Add the LSTM Layer\n",
    "    lstm_layer = layers.Bidirectional(layers.GRU(100))(embedding_layer)\n",
    "\n",
    "    # Add the output Layers\n",
    "    output_layer1 = layers.Dense(150, activation=\"tanh\")(lstm_layer)\n",
    "    #output_layer1 = layers.Dropout(0.25)(output_layer1)\n",
    "    output_layer2 = layers.Dense(3, activation=\"softmax\")(output_layer1)\n",
    "\n",
    "    # Compile the model\n",
    "    model = models.Model(inputs=input_layer, outputs=output_layer2)\n",
    "    model.compile(optimizer=optimizers.Adam(), loss='categorical_crossentropy',metrics=['accuracy'])\n",
    "    print(model.summary())\n",
    "    return model"
   ]
  },
  {
   "cell_type": "code",
   "execution_count": 59,
   "metadata": {},
   "outputs": [
    {
     "name": "stdout",
     "output_type": "stream",
     "text": [
      "Model: \"model_17\"\n",
      "_________________________________________________________________\n",
      "Layer (type)                 Output Shape              Param #   \n",
      "=================================================================\n",
      "input_18 (InputLayer)        [(None, 150)]             0         \n",
      "_________________________________________________________________\n",
      "embedding_17 (Embedding)     (None, 150, 300)          87733500  \n",
      "_________________________________________________________________\n",
      "spatial_dropout1d_17 (Spatia (None, 150, 300)          0         \n",
      "_________________________________________________________________\n",
      "bidirectional_1 (Bidirection (None, 200)               241200    \n",
      "_________________________________________________________________\n",
      "dense_34 (Dense)             (None, 150)               30150     \n",
      "_________________________________________________________________\n",
      "dense_35 (Dense)             (None, 3)                 453       \n",
      "=================================================================\n",
      "Total params: 88,005,303\n",
      "Trainable params: 271,803\n",
      "Non-trainable params: 87,733,500\n",
      "_________________________________________________________________\n",
      "None\n",
      "Epoch 1/10\n",
      "600/600 [==============================] - 303s 330ms/step - loss: 0.3390 - accuracy: 0.8718\n",
      "Epoch 2/10\n",
      "600/600 [==============================] - 185s 309ms/step - loss: 0.0725 - accuracy: 0.9770\n",
      "Epoch 3/10\n",
      "600/600 [==============================] - 185s 308ms/step - loss: 0.0589 - accuracy: 0.9820\n",
      "Epoch 4/10\n",
      "600/600 [==============================] - 186s 311ms/step - loss: 0.0501 - accuracy: 0.9844\n",
      "Epoch 5/10\n",
      "600/600 [==============================] - 184s 306ms/step - loss: 0.0461 - accuracy: 0.9861\n",
      "Epoch 6/10\n",
      "600/600 [==============================] - 184s 307ms/step - loss: 0.0372 - accuracy: 0.9890\n",
      "Epoch 7/10\n",
      "600/600 [==============================] - 184s 306ms/step - loss: 0.0352 - accuracy: 0.9888\n",
      "Epoch 8/10\n",
      "600/600 [==============================] - 184s 307ms/step - loss: 0.0288 - accuracy: 0.9911\n",
      "Epoch 9/10\n",
      "600/600 [==============================] - 184s 307ms/step - loss: 0.0285 - accuracy: 0.9897\n",
      "Epoch 10/10\n",
      "600/600 [==============================] - 189s 315ms/step - loss: 0.0234 - accuracy: 0.9923\n"
     ]
    }
   ],
   "source": [
    "classifier = create_bidirectional_rnn()\n",
    "is_neural_net=True  \n",
    "classifier.fit(train_seq_x, trainLabels, epochs=10)\n",
    "    \n",
    "    # predict the labels on validation dataset\n",
    "predictions = classifier.predict(valid_seq_x)\n",
    "predictions1 = predictions.argmax(axis=-1)\n",
    "validLabels1 = validLabels.argmax(axis=-1)\n"
   ]
  },
  {
   "cell_type": "code",
   "execution_count": 60,
   "metadata": {},
   "outputs": [
    {
     "name": "stdout",
     "output_type": "stream",
     "text": [
      "0.9933305543976657\n",
      "              precision    recall  f1-score   support\n",
      "\n",
      "           0       0.99      1.00      1.00       799\n",
      "           1       0.99      0.99      0.99       816\n",
      "           2       0.99      0.99      0.99       784\n",
      "\n",
      "    accuracy                           0.99      2399\n",
      "   macro avg       0.99      0.99      0.99      2399\n",
      "weighted avg       0.99      0.99      0.99      2399\n",
      "\n"
     ]
    }
   ],
   "source": [
    "acc = metrics.accuracy_score(predictions1, validLabels) \n",
    "print(acc)\n",
    "print(metrics.classification_report(predictions1, validLabels))"
   ]
  },
  {
   "cell_type": "markdown",
   "metadata": {},
   "source": [
    "# Recurrent Neural Network – LSTM"
   ]
  },
  {
   "cell_type": "code",
   "execution_count": 61,
   "metadata": {},
   "outputs": [],
   "source": [
    "def create_rnn_lstm():\n",
    "    # Add an Input Layer\n",
    "    input_layer = layers.Input((input_size, ))\n",
    "\n",
    "    # Add the word embedding Layer\n",
    "    embedding_layer = layers.Embedding(len(word_index) + 1, 300, weights=[embedding_matrix], trainable=False)(input_layer)\n",
    "    embedding_layer = layers.SpatialDropout1D(0.3)(embedding_layer)\n",
    "\n",
    "    # Add the LSTM Layer\n",
    "    lstm_layer = layers.LSTM(100)(embedding_layer)\n",
    "\n",
    "    # Add the output Layers\n",
    "    output_layer1 = layers.Dense(1500, activation=\"tanh\")(lstm_layer)\n",
    "    #output_layer1 = layers.Dropout(0.25)(output_layer1)\n",
    "    output_layer2 = layers.Dense(3, activation=\"softmax\")(output_layer1)\n",
    "\n",
    "    # Compile the model\n",
    "    model = models.Model(inputs=input_layer, outputs=output_layer2)\n",
    "    model.compile(optimizer=optimizers.Adam(), loss='categorical_crossentropy',metrics=['accuracy'])\n",
    "    print(model.summary())\n",
    "    return model\n",
    " "
   ]
  },
  {
   "cell_type": "code",
   "execution_count": 62,
   "metadata": {},
   "outputs": [
    {
     "name": "stdout",
     "output_type": "stream",
     "text": [
      "Model: \"model_18\"\n",
      "_________________________________________________________________\n",
      "Layer (type)                 Output Shape              Param #   \n",
      "=================================================================\n",
      "input_19 (InputLayer)        [(None, 150)]             0         \n",
      "_________________________________________________________________\n",
      "embedding_18 (Embedding)     (None, 150, 300)          87733500  \n",
      "_________________________________________________________________\n",
      "spatial_dropout1d_18 (Spatia (None, 150, 300)          0         \n",
      "_________________________________________________________________\n",
      "lstm (LSTM)                  (None, 100)               160400    \n",
      "_________________________________________________________________\n",
      "dense_36 (Dense)             (None, 1500)              151500    \n",
      "_________________________________________________________________\n",
      "dense_37 (Dense)             (None, 3)                 4503      \n",
      "=================================================================\n",
      "Total params: 88,049,903\n",
      "Trainable params: 316,403\n",
      "Non-trainable params: 87,733,500\n",
      "_________________________________________________________________\n",
      "None\n",
      "Epoch 1/5\n",
      "600/600 [==============================] - 233s 218ms/step - loss: 0.3248 - accuracy: 0.8727\n",
      "Epoch 2/5\n",
      "600/600 [==============================] - 128s 214ms/step - loss: 0.1372 - accuracy: 0.9607\n",
      "Epoch 3/5\n",
      "600/600 [==============================] - 128s 213ms/step - loss: 0.0888 - accuracy: 0.9767\n",
      "Epoch 4/5\n",
      "600/600 [==============================] - 129s 215ms/step - loss: 0.1453 - accuracy: 0.9616\n",
      "Epoch 5/5\n",
      "600/600 [==============================] - 129s 215ms/step - loss: 0.1226 - accuracy: 0.9641\n"
     ]
    }
   ],
   "source": [
    "classifier = create_rnn_lstm()\n",
    "is_neural_net=True  \n",
    "classifier.fit(train_seq_x, trainLabels, epochs=5)\n",
    "predictions = classifier.predict(valid_seq_x)\n",
    "predictions1 = predictions.argmax(axis=-1)\n",
    "validLabels1 = validLabels.argmax(axis=-1)"
   ]
  },
  {
   "cell_type": "code",
   "execution_count": 63,
   "metadata": {},
   "outputs": [
    {
     "name": "stdout",
     "output_type": "stream",
     "text": [
      "0.9895789912463526\n",
      "              precision    recall  f1-score   support\n",
      "\n",
      "           0       0.99      0.99      0.99       799\n",
      "           1       0.99      0.99      0.99       823\n",
      "           2       0.98      0.99      0.99       777\n",
      "\n",
      "    accuracy                           0.99      2399\n",
      "   macro avg       0.99      0.99      0.99      2399\n",
      "weighted avg       0.99      0.99      0.99      2399\n",
      "\n"
     ]
    }
   ],
   "source": [
    "acc = metrics.accuracy_score(predictions1, validLabels) \n",
    "print(acc)\n",
    "print(metrics.classification_report(predictions1, validLabels))"
   ]
  },
  {
   "cell_type": "code",
   "execution_count": null,
   "metadata": {},
   "outputs": [],
   "source": []
  }
 ],
 "metadata": {
  "kernelspec": {
   "display_name": "Python 3",
   "language": "python",
   "name": "python3"
  },
  "language_info": {
   "codemirror_mode": {
    "name": "ipython",
    "version": 3
   },
   "file_extension": ".py",
   "mimetype": "text/x-python",
   "name": "python",
   "nbconvert_exporter": "python",
   "pygments_lexer": "ipython3",
   "version": "3.8.3"
  }
 },
 "nbformat": 4,
 "nbformat_minor": 4
}
